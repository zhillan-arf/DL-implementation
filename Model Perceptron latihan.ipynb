{
 "cells": [
  {
   "cell_type": "code",
   "execution_count": null,
   "id": "bb76d2f8-e729-4dc2-96b5-197c249da5f8",
   "metadata": {},
   "outputs": [],
   "source": [
    "from numpy import *  \n",
    "import numpy as np\n",
    "from numpy.random import *\n",
    "from numpy.linalg import *\n",
    "import matplotlib.pyplot as plt\n",
    "from datetime import datetime\n",
    "import pandas as pd\n",
    "\n",
    "%matplotlib inline\n",
    "\n",
    "set_printoptions(precision = 3, suppress = True, formatter = {'float':'{:7.4f}'.format})\n",
    "\n",
    "#import pandas as pd\n",
    "#import scipy.stats\n",
    "#import statsmodels.api as sm\n",
    "#from tabulate import tabulate\n",
    "\n",
    "Sigmoid  = lambda Z: 1/(1+exp(-Z))   #Sigmoid(Z) = 1/(1+exp(-Z))\n",
    "dSigmoid = lambda A: A*(1-A)   #dSigmoid(Z)/dZ = Sigmoid(Z)(1-Sigmoid(Z)) = A(1-A)"
   ]
  },
  {
   "cell_type": "code",
   "execution_count": null,
   "id": "75871bb7-e791-4584-8e51-ffa2939ace0f",
   "metadata": {},
   "outputs": [],
   "source": [
    "\"Parameter diupayakan serupa dengan buku 'Dive into Deep Learning'\"\n",
    "\n",
    "N  = 100\n",
    "W  = [2, -3.4]\n",
    "b  = 4.2\n",
    "𝜎  = sqrt(1)\n",
    "beta = append(W,b).reshape(size(W)+size(b),1)\n",
    "X = hstack((randn(N,2),ones([N,1])))\n",
    "\n",
    "\"Simulasi Monte Carlo\"\n",
    "\n",
    "y = X@beta + 𝜎*rand(N,1)\n",
    "# df = pd.read_csv('X.csv')\n",
    "# X = np.array(df)[:,1:4]\n",
    "# df = pd.read_csv('y.csv')\n",
    "# y= np.array(df)[:,1]\n",
    "# y = y.reshape((100,1))\n",
    "\n",
    "# print(y)\n",
    "# print(X,y)\n",
    "# print(size(X[:,1]),size(y[:,1]))\n",
    "plt.scatter(X[:,1], y)\n",
    "plt.show()\n",
    "# print(X.shape,y.shape,type(y))\n",
    "# print(y)"
   ]
  },
  {
   "cell_type": "code",
   "execution_count": null,
   "id": "ec8201c0-d2b5-455a-8268-a7a3969b9015",
   "metadata": {},
   "outputs": [],
   "source": []
  }
 ],
 "metadata": {
  "kernelspec": {
   "display_name": "Python 3 (ipykernel)",
   "language": "python",
   "name": "python3"
  },
  "language_info": {
   "codemirror_mode": {
    "name": "ipython",
    "version": 3
   },
   "file_extension": ".py",
   "mimetype": "text/x-python",
   "name": "python",
   "nbconvert_exporter": "python",
   "pygments_lexer": "ipython3",
   "version": "3.9.18"
  }
 },
 "nbformat": 4,
 "nbformat_minor": 5
}
